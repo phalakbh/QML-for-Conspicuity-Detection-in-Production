{
 "cells": [
  {
   "cell_type": "markdown",
   "id": "780f5828",
   "metadata": {},
   "source": [
    "# Task 1: FAMILIARIZE WITH PENNYLANE\n",
    "\n",
    "In this notebook, we discuss about what we learnt from the excercises completed in the Pennylane Codebook, along with simple implementations for each of the following major subsections- Introduction to Quantum Computing, Single Qubit Gates and Circuits with Many Qubits.\n",
    "\n",
    "**Contributors**: Phalak Bhatnagar, Nandan Patel"
   ]
  },
  {
   "cell_type": "markdown",
   "id": "6c58bd86",
   "metadata": {},
   "source": [
    "## Introduction to Quantum Computing\n",
    "\n",
    "### Tutorial Overview\n",
    "The Introduction to Quantum Computing section covers all the fundamental concepts about Qubits, Quantum Circuits and Unitary Matrices, and their implementation using pennylane. \n",
    "### Key Topics Covered:\n",
    "- Understanding the principles of superposition and entanglement.\n",
    "- Explanation of qubits, including their states and how they differ from classical bits.\n",
    "- Introduction to quantum gates, their operations, and how they form quantum circuits.\n",
    "- Introduction to unitary matrices and it importance in quantum computations.\n",
    "\n",
    "### Code Example"
   ]
  },
  {
   "cell_type": "code",
   "execution_count": 1,
   "id": "299ff5f3",
   "metadata": {},
   "outputs": [
    {
     "name": "stdout",
     "output_type": "stream",
     "text": [
      "0.8731983044562817\n"
     ]
    }
   ],
   "source": [
    "\n",
    "import pennylane as qml\n",
    "from pennylane import numpy as np\n",
    "\n",
    "# Example: Creating a quantum circuit\n",
    "dev = qml.device('default.qubit', wires=1)\n",
    "\n",
    "@qml.qnode(dev)\n",
    "def circuit(params):\n",
    "    qml.RX(params[0], wires=0)\n",
    "    qml.RY(params[1], wires=0)\n",
    "    return qml.expval(qml.PauliZ(0))\n",
    "\n",
    "params = np.array([0.5, 0.1])\n",
    "print(circuit(params))\n"
   ]
  },
  {
   "cell_type": "markdown",
   "id": "20d6b4df",
   "metadata": {},
   "source": [
    "## Single-Qubit Gates\n",
    "\n",
    "### Tutorial Overview\n",
    "In this tutorial, we learned about the fundamental quantum gates like Pauli X and Hadamard, their roles in quantum computation, and the effects of qubit rotations around different axes. We explored how these gates form a universal set and delved into the probabilistic nature of quantum measurements.\n",
    "\n",
    "### Key Learnings\n",
    "- Pauli X and Hadamard Gates: These gates are essential for quantum computation. The Pauli X gate acts as a quantum NOT gate, flipping the state of a qubit. The Hadamard gate creates superpositions, transforming a basis state into an equal superposition of basis states.\n",
    "\n",
    "- Qubit Rotations and Phases: This part explores how qubits can be rotated around different axes and how global phases affect qubit states, essential for understanding quantum gate operations.\n",
    "\n",
    "- Rotations About X and Y Axes: Detailed explanation of how rotations around the X and Y axes affect the state of a qubit, altering its probability amplitudes.\n",
    "\n",
    "- Universal Gate Sets: Discussion on how a set of gates can be combined to create any single-qubit gate, emphasizing the importance of certain gate sets in constructing complex quantum operations.\n",
    "\n",
    "- Measurements: Insights into the probabilistic nature of quantum measurements, explaining how the act of measuring a qubit affects its state and the outcome probabilities.\n",
    "\n",
    "### Code Example"
   ]
  },
  {
   "cell_type": "code",
   "execution_count": 4,
   "id": "34228e10",
   "metadata": {},
   "outputs": [
    {
     "name": "stdout",
     "output_type": "stream",
     "text": [
      "0.49999999999999994\n"
     ]
    }
   ],
   "source": [
    "\n",
    "dev = qml.device('default.qubit', wires=1)\n",
    "\n",
    "@qml.qnode(dev)\n",
    "def single_qubit_gate():\n",
    "    qml.RX(np.pi/4, wires=0)\n",
    "    qml.RY(np.pi/4, wires=0)\n",
    "    return qml.expval(qml.PauliZ(0))\n",
    "\n",
    "print(single_qubit_gate())\n"
   ]
  },
  {
   "cell_type": "markdown",
   "id": "c66056e9",
   "metadata": {},
   "source": [
    "## Circuits with Many Qubits\n",
    "\n",
    "### Tutorial Overview\n",
    "In this tutorial, we learned how to construct and analyze circuits with multiple qubits, explore quantum entanglement, and understand the use of controlled gates. The section also includes challenging exercises to apply these concepts.\n",
    "### Key Learnings\n",
    "- Multi-Qubit Systems: How to build and analyze circuits involving multiple qubits.\n",
    "- Quantum Entanglement: Exploring the phenomenon where qubits become interdependent, leading to correlations between their states.\n",
    "- Controlled Gates: Introduction to gates that apply operations conditionally based on the state of other qubits.\n",
    "- Multi-Qubit Gate Challenge: Exercises designed to test and enhance understanding of multi-qubit gates and their applications.\n",
    "\n",
    "### Code Example"
   ]
  },
  {
   "cell_type": "code",
   "execution_count": 5,
   "id": "84f6228f",
   "metadata": {},
   "outputs": [
    {
     "name": "stdout",
     "output_type": "stream",
     "text": [
      "(tensor(0., requires_grad=True), tensor(0., requires_grad=True))\n"
     ]
    }
   ],
   "source": [
    "\n",
    "dev = qml.device('default.qubit', wires=2)\n",
    "\n",
    "@qml.qnode(dev)\n",
    "def multi_qubit_circuit():\n",
    "    qml.Hadamard(wires=0)\n",
    "    qml.CNOT(wires=[0, 1])\n",
    "    return qml.expval(qml.PauliZ(0)), qml.expval(qml.PauliZ(1))\n",
    "\n",
    "print(multi_qubit_circuit())\n"
   ]
  }
 ],
 "metadata": {
  "kernelspec": {
   "display_name": "base",
   "language": "python",
   "name": "python3"
  },
  "language_info": {
   "codemirror_mode": {
    "name": "ipython",
    "version": 3
   },
   "file_extension": ".py",
   "mimetype": "text/x-python",
   "name": "python",
   "nbconvert_exporter": "python",
   "pygments_lexer": "ipython3",
   "version": "3.11.7"
  }
 },
 "nbformat": 4,
 "nbformat_minor": 5
}
